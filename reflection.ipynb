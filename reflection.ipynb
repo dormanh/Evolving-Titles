{
 "cells": [
  {
   "cell_type": "code",
   "execution_count": 1,
   "metadata": {},
   "outputs": [
    {
     "name": "stderr",
     "output_type": "stream",
     "text": [
      "C:\\Hanga\\programok\\Anaconda\\envs\\py35\\lib\\importlib\\_bootstrap.py:222: RuntimeWarning: numpy.dtype size changed, may indicate binary incompatibility. Expected 96, got 88\n",
      "  return f(*args, **kwds)\n"
     ]
    }
   ],
   "source": [
    "import pandas as pd\n",
    "import numpy as np\n",
    "import multiprocessing as mp\n",
    "from sklearn.model_selection import GridSearchCV\n",
    "from sklearn.model_selection import train_test_split\n",
    "from copy import deepcopy\n",
    "import pickle\n",
    "from ipynb.fs.full.encode import encode"
   ]
  },
  {
   "cell_type": "code",
   "execution_count": 2,
   "metadata": {},
   "outputs": [
    {
     "name": "stderr",
     "output_type": "stream",
     "text": [
      "C:\\Hanga\\programok\\Anaconda\\envs\\py35\\lib\\site-packages\\sklearn\\ensemble\\weight_boosting.py:29: DeprecationWarning: numpy.core.umath_tests is an internal NumPy module and should not be imported. It will be removed in a future NumPy release.\n",
      "  from numpy.core.umath_tests import inner1d\n"
     ]
    }
   ],
   "source": [
    "from sklearn.svm import SVR\n",
    "from sklearn.linear_model import LinearRegression, Lasso, ElasticNet, LogisticRegression\n",
    "from sklearn.neighbors import KNeighborsRegressor\n",
    "from sklearn.tree import DecisionTreeRegressor\n",
    "from sklearn.ensemble import GradientBoostingRegressor, RandomForestRegressor\n",
    "from sklearn.neural_network import MLPRegressor"
   ]
  },
  {
   "cell_type": "code",
   "execution_count": 3,
   "metadata": {
    "collapsed": true
   },
   "outputs": [],
   "source": [
    "pd.set_option('display.max_rows', 500)"
   ]
  },
  {
   "cell_type": "code",
   "execution_count": 4,
   "metadata": {
    "collapsed": true
   },
   "outputs": [],
   "source": [
    "data = pd.read_csv('DATA.csv')\n",
    "X = np.array(data['0'])\n",
    "Y = np.array(data['1'])\n",
    "length = max(list(len(t) for t in X))\n",
    "X = encode(X, length)"
   ]
  },
  {
   "cell_type": "code",
   "execution_count": 5,
   "metadata": {
    "collapsed": true
   },
   "outputs": [],
   "source": [
    "models = [\n",
    "    LinearRegression,\n",
    "    LogisticRegression,\n",
    "    MLPRegressor,\n",
    "    Lasso,\n",
    "    ElasticNet,\n",
    "    KNeighborsRegressor,\n",
    "    DecisionTreeRegressor,\n",
    "    RandomForestRegressor\n",
    "]"
   ]
  },
  {
   "cell_type": "code",
   "execution_count": 6,
   "metadata": {
    "collapsed": true
   },
   "outputs": [],
   "source": [
    "grids = {\n",
    "    'LinearRegression':{},\n",
    "    'LogisticRegression': {'max_iter': [10000]},\n",
    "    'MLPRegressor':{'hidden_layer_sizes':[(6, 7), (7, 6), (5, 6), (6, 5), (6, 8), (8, 7)], 'max_iter':[10000]},\n",
    "    'Lasso':{'alpha':[10 ** n for n in [-10, -5, -3, -1, 0, 1]]},\n",
    "    'ElasticNet':{'alpha':[10 ** n for n in [-10, -5, -3, -1, 0, 1]]},\n",
    "    'KNeighborsRegressor':{'weights':['uniform', 'distance'], 'n_neighbors':[3, 5, 8, 10, 20, 30, 100],\n",
    "                           'n_jobs':[mp.cpu_count()]},\n",
    "    'DecisionTreeRegressor':{'max_depth':[3, 4, 5, 6, 7, 8]},\n",
    "    'RandomForestRegressor':{'max_depth':[4, 5, 6], 'n_estimators':[10, 50, 100, 200], 'n_jobs':[mp.cpu_count()]}\n",
    "}"
   ]
  },
  {
   "cell_type": "code",
   "execution_count": 7,
   "metadata": {},
   "outputs": [
    {
     "name": "stdout",
     "output_type": "stream",
     "text": [
      "\n",
      "\n",
      "\n",
      "-----------\n",
      "-----------\n",
      "Model name:  RandomForestRegressor\n",
      "Fitting 8 folds for each of 12 candidates, totalling 96 fits\n"
     ]
    },
    {
     "name": "stderr",
     "output_type": "stream",
     "text": [
      "[Parallel(n_jobs=2)]: Done  46 tasks      | elapsed:  1.9min\n",
      "[Parallel(n_jobs=2)]: Done  96 out of  96 | elapsed:  5.3min finished\n"
     ]
    },
    {
     "name": "stdout",
     "output_type": "stream",
     "text": [
      "Test set score: 0.65\n",
      "Best parameters: {'max_depth': 6, 'n_jobs': 2, 'n_estimators': 200}\n",
      "Best cross-validation score: 0.64\n",
      "Best estimator:\n",
      "RandomForestRegressor(bootstrap=True, criterion='mse', max_depth=6,\n",
      "           max_features='auto', max_leaf_nodes=None,\n",
      "           min_impurity_decrease=0.0, min_impurity_split=None,\n",
      "           min_samples_leaf=1, min_samples_split=2,\n",
      "           min_weight_fraction_leaf=0.0, n_estimators=200, n_jobs=2,\n",
      "           oob_score=False, random_state=None, verbose=0, warm_start=False)\n"
     ]
    }
   ],
   "source": [
    "performance_df = pd.DataFrame()\n",
    "cvinfo = ['mean_fit_time', 'mean_train_score', 'mean_test_score', 'std_test_score', 'params']\n",
    "X_train, X_test, Y_train, Y_test = train_test_split(X, Y)\n",
    "best_params = {}\n",
    "\n",
    "for model in models:\n",
    "    \n",
    "    modelname = model.__name__\n",
    "    print(\"\\n\\n\\n-----------\\n-----------\\nModel name: \", modelname)\n",
    "    \n",
    "    par_grid = grids[modelname]\n",
    "    grid_search = GridSearchCV(model(), par_grid, cv = 8, verbose = 1, return_train_score = True, n_jobs = mp.cpu_count()) \n",
    "    \n",
    "    grid_search.fit(X_train, Y_train)\n",
    "\n",
    "    print(\"Test set score: {:.2f}\".format(grid_search.score(X_test, Y_test)))\n",
    "    print(\"Best parameters: {}\".format(grid_search.best_params_))\n",
    "    print(\"Best cross-validation score: {:.2f}\".format(grid_search.best_score_))\n",
    "    print(\"Best estimator:\\n{}\".format(grid_search.best_estimator_))\n",
    "    \n",
    "    best_params[modelname] = grid_search.best_params_\n",
    "    \n",
    "    performance_df = pd.concat([performance_df,\n",
    "        pd.DataFrame({**{c: grid_search.cv_results_[c] for c in cvinfo},'name': modelname})])"
   ]
  },
  {
   "cell_type": "code",
   "execution_count": 8,
   "metadata": {},
   "outputs": [
    {
     "name": "stdout",
     "output_type": "stream",
     "text": [
      "Train score:  0.6780867870656667\n",
      "Test score:  0.6863497702134926\n"
     ]
    }
   ],
   "source": [
    "model = RandomForestRegressor(max_depth = 6, n_jobs = 2, n_estimators = 200)\n",
    "\n",
    "X_train, X_test, Y_train, Y_test = train_test_split(X, Y, train_size = 0.9, test_size = 0.1)\n",
    "\n",
    "model.fit(X_train, Y_train)\n",
    "\n",
    "print('Train score: ', model.score(X_train, Y_train))\n",
    "print('Test score: ', model.score(X_test, Y_test))\n",
    "\n",
    "pickle.dump(model, open('evaluator_tree.sav', 'wb'))"
   ]
  }
 ],
 "metadata": {
  "kernelspec": {
   "display_name": "Python 3",
   "language": "python",
   "name": "python3"
  },
  "language_info": {
   "codemirror_mode": {
    "name": "ipython",
    "version": 3
   },
   "file_extension": ".py",
   "mimetype": "text/x-python",
   "name": "python",
   "nbconvert_exporter": "python",
   "pygments_lexer": "ipython3",
   "version": "3.5.4"
  }
 },
 "nbformat": 4,
 "nbformat_minor": 2
}
