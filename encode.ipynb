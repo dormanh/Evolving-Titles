{
 "cells": [
  {
   "cell_type": "code",
   "execution_count": 3,
   "metadata": {},
   "outputs": [],
   "source": [
    "import numpy as np\n",
    "import string\n",
    "import pandas as pd"
   ]
  },
  {
   "cell_type": "code",
   "execution_count": 13,
   "metadata": {},
   "outputs": [],
   "source": [
    "def encode(array, length):\n",
    "        \n",
    "    alphabet = string.ascii_lowercase + ' '\n",
    "    alpha = np.array([i for i in alphabet])\n",
    "    codes = np.zeros(shape = (len(array), length))#, len(alphabet)))\n",
    "    \n",
    "    for n in range(len(array)):\n",
    "        for l in range(length):\n",
    "            if l < len(array[n]):\n",
    "                codes[n][l] =np.where(alpha == array[n][l])[0][0]# += 1\n",
    "        \n",
    "    return codes"
   ]
  },
  {
   "cell_type": "code",
   "execution_count": 25,
   "metadata": {},
   "outputs": [],
   "source": [
    "def flatten(array):\n",
    "\n",
    "    flat = []\n",
    "    for n in array:\n",
    "        flat.append(n.flatten())\n",
    "\n",
    "    return np.array(flat)"
   ]
  },
  {
   "cell_type": "code",
   "execution_count": 26,
   "metadata": {},
   "outputs": [],
   "source": [
    "def clean(text_list):\n",
    "    \n",
    "    alphabet = string.ascii_lowercase + ' '\n",
    "    clean_text = []\n",
    "    \n",
    "    for t in text_list:\n",
    "        if sum(list((char.lower() in alphabet) for char in t)) == len(t):\n",
    "            clean_text.append(t.lower())\n",
    "        \n",
    "    return np.array(clean_text)"
   ]
  }
 ],
 "metadata": {
  "kernelspec": {
   "display_name": "Python 3",
   "language": "python",
   "name": "python3"
  },
  "language_info": {
   "codemirror_mode": {
    "name": "ipython",
    "version": 3
   },
   "file_extension": ".py",
   "mimetype": "text/x-python",
   "name": "python",
   "nbconvert_exporter": "python",
   "pygments_lexer": "ipython3",
   "version": "3.6.7"
  }
 },
 "nbformat": 4,
 "nbformat_minor": 2
}
